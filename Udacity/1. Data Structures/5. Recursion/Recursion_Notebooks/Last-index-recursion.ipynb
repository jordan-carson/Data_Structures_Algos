{
 "cells": [
  {
   "cell_type": "markdown",
   "metadata": {
    "graffitiCellId": "id_ykogmat"
   },
   "source": [
    "## Problem statement\n",
    "\n",
    "Given an array `arr` and a target element `target`, find the last index of occurence of `target` in `arr` using recursion. If `target` is not present in `arr`, return `-1`.\n",
    "\n",
    "For example:\n",
    "\n",
    "1. For `arr = [1, 2, 5, 5, 4]` and `target = 5`, `output = 3`\n",
    "\n",
    "2. For `arr = [1, 2, 5, 5, 4]` and `target = 7`, `output = -1`"
   ]
  },
  {
   "cell_type": "code",
   "execution_count": 11,
   "metadata": {
    "graffitiCellId": "id_jy2464y"
   },
   "outputs": [],
   "source": [
    "# def last_index(arr, target):\n",
    "#     \"\"\"\n",
    "#     :param: arr - input array\n",
    "#     :param: target - integer element\n",
    "#     return: int - last index of target in arr\n",
    "#     TODO: complete this method to find the last index of target in arr\n",
    "#     \"\"\"\n",
    "    \n",
    "#     aset = set()\n",
    "#     seen = 0\n",
    "#     for i in range(len(arr)):\n",
    "#         if arr[i] == target:\n",
    "#             aset.add(arr[i])\n",
    "            \n",
    "#         if arr[i] in aset and seen > 0:\n",
    "#             return i\n",
    "        \n",
    "#         if arr[i] == target and seen == 0:\n",
    "#             seen += 1\n",
    "    \n",
    "#     return -1\n",
    "\n",
    "def last_index(arr, target):\n",
    "    return last_index_arr(arr, target, len(arr) - 1)\n",
    "\n",
    "def last_index_arr(arr, target, index):\n",
    "    print(arr, target, index)\n",
    "    if index < 0:\n",
    "        return -1\n",
    "    \n",
    "    if arr[index] == target:\n",
    "        return index\n",
    "    return last_index_arr(arr, target, index - 1)\n",
    "\n",
    "def last_index_iterative(arr, target):\n",
    "    \n",
    "    for i in range(len(arr) - 1, 0, -1):\n",
    "        if arr[i] == target:\n",
    "            return i\n",
    "    return -1\n",
    "\n",
    "def last_index_runner(arr, target):\n",
    "    return last_index_recursive(arr, target, len(arr) - 1)\n",
    "\n",
    "def last_index_recursive(arr, target, index):\n",
    "    \n",
    "    if index < 0:\n",
    "        return - 1\n",
    "    \n",
    "    if arr[index] == target:\n",
    "        return index\n",
    "    return last_index_recursive(arr, target, index - 1)"
   ]
  },
  {
   "cell_type": "markdown",
   "metadata": {
    "graffitiCellId": "id_vwcsmcw"
   },
   "source": [
    "<span class=\"graffiti-highlight graffiti-id_vwcsmcw-id_flmfhqn\"><i></i><button>Show Solution</button></span>"
   ]
  },
  {
   "cell_type": "code",
   "execution_count": 14,
   "metadata": {
    "graffitiCellId": "id_80igiok"
   },
   "outputs": [],
   "source": [
    "def test_function(test_case):\n",
    "    arr = test_case[0]\n",
    "    target = test_case[1]\n",
    "    solution = test_case[2]\n",
    "    output = last_index_runner(arr, target)\n",
    "    if output == solution:\n",
    "        print(\"Pass\")\n",
    "    else:\n",
    "        print(\"False\")"
   ]
  },
  {
   "cell_type": "code",
   "execution_count": 15,
   "metadata": {
    "graffitiCellId": "id_ph6zw07"
   },
   "outputs": [
    {
     "name": "stdout",
     "output_type": "stream",
     "text": [
      "Pass\n"
     ]
    }
   ],
   "source": [
    "arr = [1, 2, 5, 5, 4]\n",
    "target = 5\n",
    "solution = 3\n",
    "\n",
    "test_case = [arr, target, solution]\n",
    "test_function(test_case)"
   ]
  },
  {
   "cell_type": "code",
   "execution_count": 16,
   "metadata": {
    "graffitiCellId": "id_ikxk069"
   },
   "outputs": [
    {
     "name": "stdout",
     "output_type": "stream",
     "text": [
      "Pass\n"
     ]
    }
   ],
   "source": [
    "arr = [1, 2, 5, 5, 4]\n",
    "target = 7\n",
    "solution = -1\n",
    "\n",
    "test_case = [arr, target, solution]\n",
    "test_function(test_case)"
   ]
  },
  {
   "cell_type": "code",
   "execution_count": 17,
   "metadata": {
    "graffitiCellId": "id_t1qqzpn"
   },
   "outputs": [
    {
     "name": "stdout",
     "output_type": "stream",
     "text": [
      "Pass\n"
     ]
    }
   ],
   "source": [
    "arr = [91, 19, 3, 8, 9]\n",
    "target = 91\n",
    "solution = 0\n",
    "\n",
    "test_case = [arr, target, solution]\n",
    "test_function(test_case)"
   ]
  },
  {
   "cell_type": "code",
   "execution_count": 18,
   "metadata": {
    "graffitiCellId": "id_la123ly"
   },
   "outputs": [
    {
     "name": "stdout",
     "output_type": "stream",
     "text": [
      "Pass\n"
     ]
    }
   ],
   "source": [
    "arr = [1, 1, 1, 1, 1, 1]\n",
    "target = 1\n",
    "solution = 5\n",
    "\n",
    "test_case = [arr, target, solution]\n",
    "test_function(test_case)"
   ]
  },
  {
   "cell_type": "code",
   "execution_count": null,
   "metadata": {
    "graffitiCellId": "id_75uphux"
   },
   "outputs": [],
   "source": []
  },
  {
   "cell_type": "code",
   "execution_count": null,
   "metadata": {
    "graffitiCellId": "id_f2gz2uz"
   },
   "outputs": [],
   "source": []
  }
 ],
 "metadata": {
  "graffiti": {
   "firstAuthorId": "dev",
   "id": "id_4mbef37",
   "language": "EN"
  },
  "kernelspec": {
   "display_name": "Python 3",
   "language": "python",
   "name": "python3"
  },
  "language_info": {
   "codemirror_mode": {
    "name": "ipython",
    "version": 3
   },
   "file_extension": ".py",
   "mimetype": "text/x-python",
   "name": "python",
   "nbconvert_exporter": "python",
   "pygments_lexer": "ipython3",
   "version": "3.6.3"
  }
 },
 "nbformat": 4,
 "nbformat_minor": 2
}
